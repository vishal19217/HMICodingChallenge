{
 "cells": [
  {
   "cell_type": "markdown",
   "id": "26a18f9d",
   "metadata": {},
   "source": [
    "# Multimodal Emotion Recognition from Video Clips"
   ]
  },
  {
   "cell_type": "markdown",
   "id": "4bba84eb",
   "metadata": {},
   "source": [
    "Importing Libraries"
   ]
  },
  {
   "cell_type": "code",
   "execution_count": 1,
   "id": "23d323ae",
   "metadata": {},
   "outputs": [],
   "source": [
    "from time import time\n",
    "import cv2\n",
    "import numpy as np\n",
    "import glob\n",
    "import os\n",
    "from datetime import date, datetime\n",
    "import pandas"
   ]
  },
  {
   "cell_type": "markdown",
   "id": "7f5c0e11",
   "metadata": {},
   "source": [
    "#### LBP Feature Extraction Class with 8 neighbour points and 1 radius\n",
    "#### Total Bins for Histogram = 27"
   ]
  },
  {
   "cell_type": "code",
   "execution_count": 16,
   "id": "6b4d6bb8",
   "metadata": {},
   "outputs": [],
   "source": [
    "from skimage import feature\n",
    "import numpy as np\n",
    "class LocalBinaryPatterns:\n",
    "    def __init__(self, numPoints, radius):\n",
    "        # store the number of points and radius\n",
    "        self.numPoints = numPoints\n",
    "        self.radius = radius\n",
    "    def describe(self, image, eps=1e-7):\n",
    "        lbp = feature.local_binary_pattern(image, self.numPoints,\n",
    "            self.radius, method=\"uniform\")\n",
    "        (hist, _) = np.histogram(lbp.ravel(),\n",
    "            bins=np.arange(0, self.numPoints + 3),\n",
    "            range=(0, self.numPoints + 2))\n",
    "        # normalize the histogram\n",
    "        hist = hist.astype(\"float\")\n",
    "        hist /= (hist.sum() + eps)\n",
    "        # return the histogram of Local Binary Patterns\n",
    "        return hist"
   ]
  },
  {
   "cell_type": "markdown",
   "id": "308b92b6",
   "metadata": {},
   "source": [
    "#### initialising the LBP class Object"
   ]
  },
  {
   "cell_type": "code",
   "execution_count": 17,
   "id": "3609c491",
   "metadata": {},
   "outputs": [],
   "source": [
    "desc = LocalBinaryPatterns(24, 8)\n"
   ]
  },
  {
   "cell_type": "markdown",
   "id": "9fa6739a",
   "metadata": {},
   "source": [
    "#### find LBPFeatureVector Function \n",
    "#### parameter : path of image \n",
    "##### working: - calculate lbp histogram for each frame in a video clip and return avg lbp histogram for the video"
   ]
  },
  {
   "cell_type": "code",
   "execution_count": 19,
   "id": "5e468ea0",
   "metadata": {},
   "outputs": [],
   "source": [
    "def findLBPFeatureVector(path):\n",
    "    hist = []\n",
    "    cnt=0\n",
    "    vidObj = cv2.VideoCapture(path);\n",
    "    while (vidObj.isOpened()):\n",
    "        ret,image = vidObj.read()\n",
    "        if(ret==False):\n",
    "            break\n",
    "        image = cv2.cvtColor(image,cv2.COLOR_BGR2GRAY)\n",
    "        curHist = desc.describe(image)\n",
    "        hist.append(curHist)\n",
    "        cnt+=1\n",
    "    vidObj.release();\n",
    "    return np.average(np.array(hist),axis = 0)\n",
    "\n",
    "    "
   ]
  },
  {
   "cell_type": "markdown",
   "id": "7fc73418",
   "metadata": {},
   "source": [
    "####  Iterate over each video clip (from 1-20) actors and store the lbp feature vector (histogram) in data and it's label in label \n",
    "#### audio-video folder contains videos of 1-20 actors\n"
   ]
  },
  {
   "cell_type": "code",
   "execution_count": null,
   "id": "73715ea5",
   "metadata": {},
   "outputs": [
    {
     "name": "stdout",
     "output_type": "stream",
     "text": [
      "{1: 'neutral', 2: 'calm', 3: 'happy', 4: 'sad', 5: 'angry', 6: 'fearful', 7: 'disgust', 8: 'surprise'}\n",
      "audio-video\\Actor_01\\02-01-01-01-01-01-01.mp4\n",
      "audio-video\\Actor_02\\02-01-01-01-01-01-02.mp4\n",
      "audio-video\\Actor_03\\02-01-01-01-01-01-03.mp4\n",
      "audio-video\\Actor_04\\02-01-01-01-01-01-04.mp4\n",
      "audio-video\\Actor_05\\02-01-01-01-01-01-05.mp4\n",
      "audio-video\\Actor_06\\02-01-01-01-01-01-06.mp4\n",
      "audio-video\\Actor_07\\02-01-01-01-01-01-07.mp4\n",
      "audio-video\\Actor_08\\02-01-01-01-01-01-08.mp4\n",
      "audio-video\\Actor_09\\02-01-01-01-01-01-09.mp4\n",
      "audio-video\\Actor_10\\02-01-01-01-01-01-10.mp4\n",
      "audio-video\\Actor_11\\02-01-01-01-01-01-11.mp4\n",
      "audio-video\\Actor_12\\02-01-01-01-01-01-12.mp4\n",
      "audio-video\\Actor_13\\02-01-01-01-01-01-13.mp4\n",
      "audio-video\\Actor_14\\02-01-01-01-01-01-14.mp4\n",
      "audio-video\\Actor_15\\02-01-01-01-01-01-15.mp4\n",
      "audio-video\\Actor_16\\02-01-01-01-01-01-16.mp4\n"
     ]
    }
   ],
   "source": [
    "import glob\n",
    "emotion = {1:'neutral',2:'calm',3:'happy',4:'sad',5:'angry',6:'fearful',7:'disgust',8:'surprise'}\n",
    "print(emotion)\n",
    "data = []\n",
    "label = []\n",
    "for i in range(1,9):\n",
    "    files = glob.glob('audio-video\\\\**\\\\02-01-0{emotion}-01-01-01-*.mp4'.format(emotion = i))\n",
    "    for file in files:\n",
    "        print(file)\n",
    "        hist = findLBPFeatureVector(file)\n",
    "        data.append(hist)\n",
    "        label.append(i)\n"
   ]
  },
  {
   "cell_type": "code",
   "execution_count": null,
   "id": "6f788dbc",
   "metadata": {},
   "outputs": [],
   "source": [
    "data = np.array(data)\n",
    "label = np.array(label)\n",
    "print(data.shape)\n",
    "print(label.shape)"
   ]
  },
  {
   "cell_type": "markdown",
   "id": "e115b1f0",
   "metadata": {},
   "source": [
    "#### Linear Support Vector Classifier used for training the model and predicting the emotion of test video"
   ]
  },
  {
   "cell_type": "code",
   "execution_count": null,
   "id": "dc49709e",
   "metadata": {},
   "outputs": [],
   "source": [
    "from sklearn.svm import LinearSVC\n",
    "print(len(label))\n",
    "# print(data)\n",
    "# train a Linear SVM on the data\n",
    "model = LinearSVC(random_state=42)\n",
    "model.fit(data, label)\n",
    "\n",
    "   "
   ]
  },
  {
   "cell_type": "markdown",
   "id": "bccc69ce",
   "metadata": {},
   "source": [
    "#### Saving and loading the model using pickle"
   ]
  },
  {
   "cell_type": "code",
   "execution_count": null,
   "id": "676cbc15",
   "metadata": {},
   "outputs": [],
   "source": [
    "import pickle\n",
    "with open('finalTrainedModelv2_pkl', 'wb') as files:\n",
    "    pickle.dump(model, files)"
   ]
  },
  {
   "cell_type": "code",
   "execution_count": null,
   "id": "7ff84b68",
   "metadata": {},
   "outputs": [],
   "source": [
    "with open('finalTrainedModelv2_pkl' , 'rb') as f:\n",
    "    lr = pickle.load(f)\n",
    "\n",
    "display(lr)"
   ]
  },
  {
   "cell_type": "markdown",
   "id": "4bde6fb1",
   "metadata": {},
   "source": [
    "#### testing the model on 21-24 actors"
   ]
  },
  {
   "cell_type": "code",
   "execution_count": null,
   "id": "5e590c3c",
   "metadata": {},
   "outputs": [],
   "source": [
    "test_data=[]\n",
    "test_true_label = []\n",
    "for i in range(1,9):\n",
    "    test_files = []\n",
    "    test_files = glob.glob('test\\\\**\\\\02-01-0{emotion}-01-01-01-*.mp4'.format(emotion = i))\n",
    "    for file in test_files:\n",
    "        print(file)\n",
    "        hist = findLBPFeatureVector(file)\n",
    "        test_data.append(hist)\n",
    "        test_true_label.append(i)"
   ]
  },
  {
   "cell_type": "code",
   "execution_count": null,
   "id": "f33eac63",
   "metadata": {},
   "outputs": [],
   "source": [
    "test_true_label = np.array(test_true_label)\n",
    "test_predict_label = np.array(model.predict(test_data))\n",
    "display(test_predict_label.shape)"
   ]
  },
  {
   "cell_type": "code",
   "execution_count": null,
   "id": "95ee63b4",
   "metadata": {
    "scrolled": true
   },
   "outputs": [],
   "source": [
    "\n",
    "print(test_predict_label)\n",
    "print(test_true_label.shape)\n",
    "print(test_true_label)"
   ]
  },
  {
   "cell_type": "code",
   "execution_count": 15,
   "id": "7c288d02",
   "metadata": {},
   "outputs": [
    {
     "name": "stdout",
     "output_type": "stream",
     "text": [
      "              precision    recall  f1-score   support\n",
      "\n",
      "           1       0.17      0.25      0.20         4\n",
      "           2       0.12      0.50      0.20         4\n",
      "           3       0.12      0.25      0.17         4\n",
      "           4       0.00      0.00      0.00         4\n",
      "           5       0.50      0.25      0.33         4\n",
      "           6       0.00      0.00      0.00         4\n",
      "           7       0.00      0.00      0.00         4\n",
      "           8       0.00      0.00      0.00         4\n",
      "\n",
      "    accuracy                           0.16        32\n",
      "   macro avg       0.11      0.16      0.11        32\n",
      "weighted avg       0.11      0.16      0.11        32\n",
      "\n"
     ]
    },
    {
     "name": "stderr",
     "output_type": "stream",
     "text": [
      "C:\\Users\\vishal bansal\\AppData\\Local\\Programs\\Python\\Python310\\lib\\site-packages\\sklearn\\metrics\\_classification.py:1327: UndefinedMetricWarning: Precision and F-score are ill-defined and being set to 0.0 in labels with no predicted samples. Use `zero_division` parameter to control this behavior.\n",
      "  _warn_prf(average, modifier, msg_start, len(result))\n",
      "C:\\Users\\vishal bansal\\AppData\\Local\\Programs\\Python\\Python310\\lib\\site-packages\\sklearn\\metrics\\_classification.py:1327: UndefinedMetricWarning: Precision and F-score are ill-defined and being set to 0.0 in labels with no predicted samples. Use `zero_division` parameter to control this behavior.\n",
      "  _warn_prf(average, modifier, msg_start, len(result))\n",
      "C:\\Users\\vishal bansal\\AppData\\Local\\Programs\\Python\\Python310\\lib\\site-packages\\sklearn\\metrics\\_classification.py:1327: UndefinedMetricWarning: Precision and F-score are ill-defined and being set to 0.0 in labels with no predicted samples. Use `zero_division` parameter to control this behavior.\n",
      "  _warn_prf(average, modifier, msg_start, len(result))\n"
     ]
    }
   ],
   "source": [
    "from sklearn.metrics import classification_report\n",
    "print(classification_report(test_true_label,test_predict_label))"
   ]
  }
 ],
 "metadata": {
  "kernelspec": {
   "display_name": "Python 3 (ipykernel)",
   "language": "python",
   "name": "python3"
  },
  "language_info": {
   "codemirror_mode": {
    "name": "ipython",
    "version": 3
   },
   "file_extension": ".py",
   "mimetype": "text/x-python",
   "name": "python",
   "nbconvert_exporter": "python",
   "pygments_lexer": "ipython3",
   "version": "3.10.6"
  }
 },
 "nbformat": 4,
 "nbformat_minor": 5
}
