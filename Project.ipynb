{
 "cells": [
  {
   "cell_type": "markdown",
   "id": "2eb7c00b",
   "metadata": {},
   "source": []
  },
  {
   "cell_type": "markdown",
   "id": "b1b7fccd",
   "metadata": {},
   "source": [
    "#### Importing Libraries"
   ]
  },
  {
   "cell_type": "code",
   "execution_count": 1,
   "id": "23d323ae",
   "metadata": {},
   "outputs": [],
   "source": [
    "from time import time\n",
    "import cv2\n",
    "import numpy as np\n",
    "import glob\n",
    "import os\n",
    "from datetime import date, datetime\n",
    "import pandas"
   ]
  },
  {
   "cell_type": "markdown",
   "id": "d397c532",
   "metadata": {},
   "source": [
    "### Feature Extraction"
   ]
  },
  {
   "cell_type": "markdown",
   "id": "c30f0cc6",
   "metadata": {},
   "source": [
    "#### LBP Feature Extraction Class with 8 neighbour points and 1cm  radius\n",
    "#### Total Bins for Histogram(of LBP) = 27"
   ]
  },
  {
   "cell_type": "code",
   "execution_count": 16,
   "id": "6b4d6bb8",
   "metadata": {},
   "outputs": [],
   "source": [
    "from skimage import feature\n",
    "import numpy as np\n",
    "class LocalBinaryPatterns:\n",
    "    def __init__(self, numPoints, radius):\n",
    "        self.numPoints = numPoints\n",
    "        self.radius = radius\n",
    "    def describe(self, image, eps=1e-7):\n",
    "        lbp = feature.local_binary_pattern(image, self.numPoints,\n",
    "            self.radius, method=\"uniform\")\n",
    "        (hist, _) = np.histogram(lbp.ravel(),\n",
    "            bins=np.arange(0, self.numPoints + 3),\n",
    "            range=(0, self.numPoints + 2))\n",
    "        hist = hist.astype(\"float\")\n",
    "        hist /= (hist.sum() + eps)\n",
    "        return hist"
   ]
  },
  {
   "cell_type": "markdown",
   "id": "d4e1b25f",
   "metadata": {},
   "source": [
    "#### initialising the LBP class Object with radius = 1 and neighbour points = 8"
   ]
  },
  {
   "cell_type": "code",
   "execution_count": 21,
   "id": "3609c491",
   "metadata": {},
   "outputs": [],
   "source": [
    "desc = LocalBinaryPatterns(8, 1)\n"
   ]
  },
  {
   "cell_type": "markdown",
   "id": "9c9fec6c",
   "metadata": {},
   "source": [
    "#### LBPFeatureVector Function \n",
    "#### parameter : path of image \n",
    "##### working: - calculate  histogram of lbp values for each frame in a video clip and return avg  histogram values of all frames for the video"
   ]
  },
  {
   "cell_type": "code",
   "execution_count": 22,
   "id": "5e468ea0",
   "metadata": {},
   "outputs": [],
   "source": [
    "def findLBPFeatureVector(path):\n",
    "    hist = []\n",
    "    cnt=0\n",
    "    vidObj = cv2.VideoCapture(path);\n",
    "    while (vidObj.isOpened()):\n",
    "        ret,image = vidObj.read()\n",
    "        if(ret==False):\n",
    "            break\n",
    "        image = cv2.cvtColor(image,cv2.COLOR_BGR2GRAY)\n",
    "        curHist = desc.describe(image)\n",
    "        hist.append(curHist)\n",
    "        cnt+=1\n",
    "    vidObj.release();\n",
    "    return np.average(np.array(hist),axis = 0)\n",
    "\n",
    "    "
   ]
  },
  {
   "cell_type": "markdown",
   "id": "48bb597c",
   "metadata": {},
   "source": [
    "####  Iterate over each video clip (from 1-20) actors and store the lbp feature vector (histogram) in data and it's label in label \n",
    "#### audio-video folder contains videos of 1-20 actors\n"
   ]
  },
  {
   "cell_type": "code",
   "execution_count": 23,
   "id": "73715ea5",
   "metadata": {},
   "outputs": [
    {
     "name": "stdout",
     "output_type": "stream",
     "text": [
      "{1: 'neutral', 2: 'calm', 3: 'happy', 4: 'sad', 5: 'angry', 6: 'fearful', 7: 'disgust', 8: 'surprise'}\n",
      "audio-video\\Actor_01\\02-01-01-01-01-01-01.mp4\n",
      "audio-video\\Actor_02\\02-01-01-01-01-01-02.mp4\n",
      "audio-video\\Actor_03\\02-01-01-01-01-01-03.mp4\n",
      "audio-video\\Actor_04\\02-01-01-01-01-01-04.mp4\n",
      "audio-video\\Actor_05\\02-01-01-01-01-01-05.mp4\n",
      "audio-video\\Actor_06\\02-01-01-01-01-01-06.mp4\n",
      "audio-video\\Actor_07\\02-01-01-01-01-01-07.mp4\n",
      "audio-video\\Actor_08\\02-01-01-01-01-01-08.mp4\n",
      "audio-video\\Actor_09\\02-01-01-01-01-01-09.mp4\n",
      "audio-video\\Actor_10\\02-01-01-01-01-01-10.mp4\n",
      "audio-video\\Actor_11\\02-01-01-01-01-01-11.mp4\n",
      "audio-video\\Actor_12\\02-01-01-01-01-01-12.mp4\n",
      "audio-video\\Actor_13\\02-01-01-01-01-01-13.mp4\n",
      "audio-video\\Actor_14\\02-01-01-01-01-01-14.mp4\n",
      "audio-video\\Actor_15\\02-01-01-01-01-01-15.mp4\n",
      "audio-video\\Actor_16\\02-01-01-01-01-01-16.mp4\n",
      "audio-video\\Actor_17\\02-01-01-01-01-01-17.mp4\n",
      "audio-video\\Actor_18\\02-01-01-01-01-01-18.mp4\n",
      "audio-video\\Actor_19\\02-01-01-01-01-01-19.mp4\n",
      "audio-video\\Actor_20\\02-01-01-01-01-01-20.mp4\n",
      "audio-video\\Actor_01\\02-01-02-01-01-01-01.mp4\n",
      "audio-video\\Actor_02\\02-01-02-01-01-01-02.mp4\n",
      "audio-video\\Actor_03\\02-01-02-01-01-01-03.mp4\n",
      "audio-video\\Actor_04\\02-01-02-01-01-01-04.mp4\n",
      "audio-video\\Actor_05\\02-01-02-01-01-01-05.mp4\n",
      "audio-video\\Actor_06\\02-01-02-01-01-01-06.mp4\n",
      "audio-video\\Actor_07\\02-01-02-01-01-01-07.mp4\n",
      "audio-video\\Actor_08\\02-01-02-01-01-01-08.mp4\n",
      "audio-video\\Actor_09\\02-01-02-01-01-01-09.mp4\n",
      "audio-video\\Actor_10\\02-01-02-01-01-01-10.mp4\n",
      "audio-video\\Actor_11\\02-01-02-01-01-01-11.mp4\n",
      "audio-video\\Actor_12\\02-01-02-01-01-01-12.mp4\n",
      "audio-video\\Actor_13\\02-01-02-01-01-01-13.mp4\n",
      "audio-video\\Actor_14\\02-01-02-01-01-01-14.mp4\n",
      "audio-video\\Actor_15\\02-01-02-01-01-01-15.mp4\n",
      "audio-video\\Actor_16\\02-01-02-01-01-01-16.mp4\n",
      "audio-video\\Actor_17\\02-01-02-01-01-01-17.mp4\n",
      "audio-video\\Actor_18\\02-01-02-01-01-01-18.mp4\n",
      "audio-video\\Actor_19\\02-01-02-01-01-01-19.mp4\n",
      "audio-video\\Actor_20\\02-01-02-01-01-01-20.mp4\n",
      "audio-video\\Actor_01\\02-01-03-01-01-01-01.mp4\n",
      "audio-video\\Actor_02\\02-01-03-01-01-01-02.mp4\n",
      "audio-video\\Actor_03\\02-01-03-01-01-01-03.mp4\n",
      "audio-video\\Actor_04\\02-01-03-01-01-01-04.mp4\n",
      "audio-video\\Actor_05\\02-01-03-01-01-01-05.mp4\n",
      "audio-video\\Actor_06\\02-01-03-01-01-01-06.mp4\n",
      "audio-video\\Actor_07\\02-01-03-01-01-01-07.mp4\n",
      "audio-video\\Actor_08\\02-01-03-01-01-01-08.mp4\n",
      "audio-video\\Actor_09\\02-01-03-01-01-01-09.mp4\n",
      "audio-video\\Actor_10\\02-01-03-01-01-01-10.mp4\n",
      "audio-video\\Actor_11\\02-01-03-01-01-01-11.mp4\n",
      "audio-video\\Actor_12\\02-01-03-01-01-01-12.mp4\n",
      "audio-video\\Actor_13\\02-01-03-01-01-01-13.mp4\n",
      "audio-video\\Actor_14\\02-01-03-01-01-01-14.mp4\n",
      "audio-video\\Actor_15\\02-01-03-01-01-01-15.mp4\n",
      "audio-video\\Actor_16\\02-01-03-01-01-01-16.mp4\n",
      "audio-video\\Actor_17\\02-01-03-01-01-01-17.mp4\n",
      "audio-video\\Actor_18\\02-01-03-01-01-01-18.mp4\n",
      "audio-video\\Actor_19\\02-01-03-01-01-01-19.mp4\n",
      "audio-video\\Actor_20\\02-01-03-01-01-01-20.mp4\n",
      "audio-video\\Actor_01\\02-01-04-01-01-01-01.mp4\n",
      "audio-video\\Actor_02\\02-01-04-01-01-01-02.mp4\n",
      "audio-video\\Actor_03\\02-01-04-01-01-01-03.mp4\n",
      "audio-video\\Actor_04\\02-01-04-01-01-01-04.mp4\n",
      "audio-video\\Actor_05\\02-01-04-01-01-01-05.mp4\n",
      "audio-video\\Actor_06\\02-01-04-01-01-01-06.mp4\n",
      "audio-video\\Actor_07\\02-01-04-01-01-01-07.mp4\n",
      "audio-video\\Actor_08\\02-01-04-01-01-01-08.mp4\n",
      "audio-video\\Actor_09\\02-01-04-01-01-01-09.mp4\n",
      "audio-video\\Actor_10\\02-01-04-01-01-01-10.mp4\n",
      "audio-video\\Actor_11\\02-01-04-01-01-01-11.mp4\n",
      "audio-video\\Actor_12\\02-01-04-01-01-01-12.mp4\n",
      "audio-video\\Actor_13\\02-01-04-01-01-01-13.mp4\n",
      "audio-video\\Actor_14\\02-01-04-01-01-01-14.mp4\n",
      "audio-video\\Actor_15\\02-01-04-01-01-01-15.mp4\n",
      "audio-video\\Actor_16\\02-01-04-01-01-01-16.mp4\n",
      "audio-video\\Actor_17\\02-01-04-01-01-01-17.mp4\n",
      "audio-video\\Actor_18\\02-01-04-01-01-01-18.mp4\n",
      "audio-video\\Actor_19\\02-01-04-01-01-01-19.mp4\n",
      "audio-video\\Actor_20\\02-01-04-01-01-01-20.mp4\n",
      "audio-video\\Actor_01\\02-01-05-01-01-01-01.mp4\n",
      "audio-video\\Actor_02\\02-01-05-01-01-01-02.mp4\n",
      "audio-video\\Actor_03\\02-01-05-01-01-01-03.mp4\n",
      "audio-video\\Actor_04\\02-01-05-01-01-01-04.mp4\n",
      "audio-video\\Actor_05\\02-01-05-01-01-01-05.mp4\n",
      "audio-video\\Actor_06\\02-01-05-01-01-01-06.mp4\n",
      "audio-video\\Actor_07\\02-01-05-01-01-01-07.mp4\n",
      "audio-video\\Actor_08\\02-01-05-01-01-01-08.mp4\n",
      "audio-video\\Actor_09\\02-01-05-01-01-01-09.mp4\n",
      "audio-video\\Actor_10\\02-01-05-01-01-01-10.mp4\n",
      "audio-video\\Actor_11\\02-01-05-01-01-01-11.mp4\n",
      "audio-video\\Actor_12\\02-01-05-01-01-01-12.mp4\n",
      "audio-video\\Actor_13\\02-01-05-01-01-01-13.mp4\n",
      "audio-video\\Actor_14\\02-01-05-01-01-01-14.mp4\n",
      "audio-video\\Actor_15\\02-01-05-01-01-01-15.mp4\n",
      "audio-video\\Actor_16\\02-01-05-01-01-01-16.mp4\n",
      "audio-video\\Actor_17\\02-01-05-01-01-01-17.mp4\n",
      "audio-video\\Actor_18\\02-01-05-01-01-01-18.mp4\n",
      "audio-video\\Actor_19\\02-01-05-01-01-01-19.mp4\n",
      "audio-video\\Actor_20\\02-01-05-01-01-01-20.mp4\n",
      "audio-video\\Actor_01\\02-01-06-01-01-01-01.mp4\n",
      "audio-video\\Actor_02\\02-01-06-01-01-01-02.mp4\n",
      "audio-video\\Actor_03\\02-01-06-01-01-01-03.mp4\n",
      "audio-video\\Actor_04\\02-01-06-01-01-01-04.mp4\n",
      "audio-video\\Actor_05\\02-01-06-01-01-01-05.mp4\n",
      "audio-video\\Actor_06\\02-01-06-01-01-01-06.mp4\n",
      "audio-video\\Actor_07\\02-01-06-01-01-01-07.mp4\n",
      "audio-video\\Actor_08\\02-01-06-01-01-01-08.mp4\n",
      "audio-video\\Actor_09\\02-01-06-01-01-01-09.mp4\n",
      "audio-video\\Actor_10\\02-01-06-01-01-01-10.mp4\n",
      "audio-video\\Actor_11\\02-01-06-01-01-01-11.mp4\n",
      "audio-video\\Actor_12\\02-01-06-01-01-01-12.mp4\n",
      "audio-video\\Actor_13\\02-01-06-01-01-01-13.mp4\n",
      "audio-video\\Actor_14\\02-01-06-01-01-01-14.mp4\n",
      "audio-video\\Actor_15\\02-01-06-01-01-01-15.mp4\n",
      "audio-video\\Actor_16\\02-01-06-01-01-01-16.mp4\n",
      "audio-video\\Actor_18\\02-01-06-01-01-01-18.mp4\n",
      "audio-video\\Actor_19\\02-01-06-01-01-01-19.mp4\n",
      "audio-video\\Actor_20\\02-01-06-01-01-01-20.mp4\n",
      "audio-video\\Actor_01\\02-01-07-01-01-01-01.mp4\n",
      "audio-video\\Actor_02\\02-01-07-01-01-01-02.mp4\n",
      "audio-video\\Actor_03\\02-01-07-01-01-01-03.mp4\n",
      "audio-video\\Actor_04\\02-01-07-01-01-01-04.mp4\n",
      "audio-video\\Actor_05\\02-01-07-01-01-01-05.mp4\n",
      "audio-video\\Actor_06\\02-01-07-01-01-01-06.mp4\n",
      "audio-video\\Actor_07\\02-01-07-01-01-01-07.mp4\n",
      "audio-video\\Actor_08\\02-01-07-01-01-01-08.mp4\n",
      "audio-video\\Actor_09\\02-01-07-01-01-01-09.mp4\n",
      "audio-video\\Actor_10\\02-01-07-01-01-01-10.mp4\n",
      "audio-video\\Actor_11\\02-01-07-01-01-01-11.mp4\n",
      "audio-video\\Actor_12\\02-01-07-01-01-01-12.mp4\n",
      "audio-video\\Actor_13\\02-01-07-01-01-01-13.mp4\n",
      "audio-video\\Actor_14\\02-01-07-01-01-01-14.mp4\n",
      "audio-video\\Actor_15\\02-01-07-01-01-01-15.mp4\n",
      "audio-video\\Actor_16\\02-01-07-01-01-01-16.mp4\n",
      "audio-video\\Actor_18\\02-01-07-01-01-01-18.mp4\n",
      "audio-video\\Actor_19\\02-01-07-01-01-01-19.mp4\n",
      "audio-video\\Actor_20\\02-01-07-01-01-01-20.mp4\n",
      "audio-video\\Actor_01\\02-01-08-01-01-01-01.mp4\n",
      "audio-video\\Actor_02\\02-01-08-01-01-01-02.mp4\n",
      "audio-video\\Actor_03\\02-01-08-01-01-01-03.mp4\n",
      "audio-video\\Actor_04\\02-01-08-01-01-01-04.mp4\n",
      "audio-video\\Actor_05\\02-01-08-01-01-01-05.mp4\n",
      "audio-video\\Actor_06\\02-01-08-01-01-01-06.mp4\n",
      "audio-video\\Actor_07\\02-01-08-01-01-01-07.mp4\n",
      "audio-video\\Actor_08\\02-01-08-01-01-01-08.mp4\n",
      "audio-video\\Actor_09\\02-01-08-01-01-01-09.mp4\n",
      "audio-video\\Actor_10\\02-01-08-01-01-01-10.mp4\n",
      "audio-video\\Actor_11\\02-01-08-01-01-01-11.mp4\n",
      "audio-video\\Actor_12\\02-01-08-01-01-01-12.mp4\n",
      "audio-video\\Actor_13\\02-01-08-01-01-01-13.mp4\n",
      "audio-video\\Actor_14\\02-01-08-01-01-01-14.mp4\n",
      "audio-video\\Actor_15\\02-01-08-01-01-01-15.mp4\n",
      "audio-video\\Actor_16\\02-01-08-01-01-01-16.mp4\n",
      "audio-video\\Actor_18\\02-01-08-01-01-01-18.mp4\n",
      "audio-video\\Actor_19\\02-01-08-01-01-01-19.mp4\n",
      "audio-video\\Actor_20\\02-01-08-01-01-01-20.mp4\n"
     ]
    }
   ],
   "source": [
    "import glob\n",
    "emotion = {1:'neutral',2:'calm',3:'happy',4:'sad',5:'angry',6:'fearful',7:'disgust',8:'surprise'}\n",
    "print(emotion)\n",
    "data = []\n",
    "label = []\n",
    "for i in range(1,9):\n",
    "    files = glob.glob('audio-video\\\\**\\\\02-01-0{emotion}-01-01-01-*.mp4'.format(emotion = i))\n",
    "    for file in files:\n",
    "        print(file)\n",
    "        hist = findLBPFeatureVector(file)\n",
    "        data.append(hist)\n",
    "        label.append(i)\n"
   ]
  },
  {
   "cell_type": "code",
   "execution_count": 25,
   "id": "6f788dbc",
   "metadata": {},
   "outputs": [
    {
     "name": "stdout",
     "output_type": "stream",
     "text": [
      "(157, 10)\n",
      "(157,)\n"
     ]
    }
   ],
   "source": [
    "data = np.array(data)\n",
    "label = np.array(label)\n",
    "print(data.shape)\n",
    "print(label.shape)"
   ]
  },
  {
   "cell_type": "markdown",
   "id": "757137a1",
   "metadata": {},
   "source": [
    "#### Linear Support Vector Classifier used for training the model and predicting the emotion of test video"
   ]
  },
  {
   "cell_type": "code",
   "execution_count": 26,
   "id": "dc49709e",
   "metadata": {},
   "outputs": [
    {
     "name": "stdout",
     "output_type": "stream",
     "text": [
      "157\n"
     ]
    },
    {
     "data": {
      "text/html": [
       "<style>#sk-container-id-3 {color: black;background-color: white;}#sk-container-id-3 pre{padding: 0;}#sk-container-id-3 div.sk-toggleable {background-color: white;}#sk-container-id-3 label.sk-toggleable__label {cursor: pointer;display: block;width: 100%;margin-bottom: 0;padding: 0.3em;box-sizing: border-box;text-align: center;}#sk-container-id-3 label.sk-toggleable__label-arrow:before {content: \"▸\";float: left;margin-right: 0.25em;color: #696969;}#sk-container-id-3 label.sk-toggleable__label-arrow:hover:before {color: black;}#sk-container-id-3 div.sk-estimator:hover label.sk-toggleable__label-arrow:before {color: black;}#sk-container-id-3 div.sk-toggleable__content {max-height: 0;max-width: 0;overflow: hidden;text-align: left;background-color: #f0f8ff;}#sk-container-id-3 div.sk-toggleable__content pre {margin: 0.2em;color: black;border-radius: 0.25em;background-color: #f0f8ff;}#sk-container-id-3 input.sk-toggleable__control:checked~div.sk-toggleable__content {max-height: 200px;max-width: 100%;overflow: auto;}#sk-container-id-3 input.sk-toggleable__control:checked~label.sk-toggleable__label-arrow:before {content: \"▾\";}#sk-container-id-3 div.sk-estimator input.sk-toggleable__control:checked~label.sk-toggleable__label {background-color: #d4ebff;}#sk-container-id-3 div.sk-label input.sk-toggleable__control:checked~label.sk-toggleable__label {background-color: #d4ebff;}#sk-container-id-3 input.sk-hidden--visually {border: 0;clip: rect(1px 1px 1px 1px);clip: rect(1px, 1px, 1px, 1px);height: 1px;margin: -1px;overflow: hidden;padding: 0;position: absolute;width: 1px;}#sk-container-id-3 div.sk-estimator {font-family: monospace;background-color: #f0f8ff;border: 1px dotted black;border-radius: 0.25em;box-sizing: border-box;margin-bottom: 0.5em;}#sk-container-id-3 div.sk-estimator:hover {background-color: #d4ebff;}#sk-container-id-3 div.sk-parallel-item::after {content: \"\";width: 100%;border-bottom: 1px solid gray;flex-grow: 1;}#sk-container-id-3 div.sk-label:hover label.sk-toggleable__label {background-color: #d4ebff;}#sk-container-id-3 div.sk-serial::before {content: \"\";position: absolute;border-left: 1px solid gray;box-sizing: border-box;top: 0;bottom: 0;left: 50%;z-index: 0;}#sk-container-id-3 div.sk-serial {display: flex;flex-direction: column;align-items: center;background-color: white;padding-right: 0.2em;padding-left: 0.2em;position: relative;}#sk-container-id-3 div.sk-item {position: relative;z-index: 1;}#sk-container-id-3 div.sk-parallel {display: flex;align-items: stretch;justify-content: center;background-color: white;position: relative;}#sk-container-id-3 div.sk-item::before, #sk-container-id-3 div.sk-parallel-item::before {content: \"\";position: absolute;border-left: 1px solid gray;box-sizing: border-box;top: 0;bottom: 0;left: 50%;z-index: -1;}#sk-container-id-3 div.sk-parallel-item {display: flex;flex-direction: column;z-index: 1;position: relative;background-color: white;}#sk-container-id-3 div.sk-parallel-item:first-child::after {align-self: flex-end;width: 50%;}#sk-container-id-3 div.sk-parallel-item:last-child::after {align-self: flex-start;width: 50%;}#sk-container-id-3 div.sk-parallel-item:only-child::after {width: 0;}#sk-container-id-3 div.sk-dashed-wrapped {border: 1px dashed gray;margin: 0 0.4em 0.5em 0.4em;box-sizing: border-box;padding-bottom: 0.4em;background-color: white;}#sk-container-id-3 div.sk-label label {font-family: monospace;font-weight: bold;display: inline-block;line-height: 1.2em;}#sk-container-id-3 div.sk-label-container {text-align: center;}#sk-container-id-3 div.sk-container {/* jupyter's `normalize.less` sets `[hidden] { display: none; }` but bootstrap.min.css set `[hidden] { display: none !important; }` so we also need the `!important` here to be able to override the default hidden behavior on the sphinx rendered scikit-learn.org. See: https://github.com/scikit-learn/scikit-learn/issues/21755 */display: inline-block !important;position: relative;}#sk-container-id-3 div.sk-text-repr-fallback {display: none;}</style><div id=\"sk-container-id-3\" class=\"sk-top-container\"><div class=\"sk-text-repr-fallback\"><pre>LinearSVC(random_state=42)</pre><b>In a Jupyter environment, please rerun this cell to show the HTML representation or trust the notebook. <br />On GitHub, the HTML representation is unable to render, please try loading this page with nbviewer.org.</b></div><div class=\"sk-container\" hidden><div class=\"sk-item\"><div class=\"sk-estimator sk-toggleable\"><input class=\"sk-toggleable__control sk-hidden--visually\" id=\"sk-estimator-id-3\" type=\"checkbox\" checked><label for=\"sk-estimator-id-3\" class=\"sk-toggleable__label sk-toggleable__label-arrow\">LinearSVC</label><div class=\"sk-toggleable__content\"><pre>LinearSVC(random_state=42)</pre></div></div></div></div></div>"
      ],
      "text/plain": [
       "LinearSVC(random_state=42)"
      ]
     },
     "execution_count": 26,
     "metadata": {},
     "output_type": "execute_result"
    }
   ],
   "source": [
    "from sklearn.svm import LinearSVC\n",
    "print(len(label))\n",
    "# print(data)\n",
    "model = LinearSVC(random_state=42)\n",
    "model.fit(data, label)\n",
    "\n",
    "   "
   ]
  },
  {
   "cell_type": "markdown",
   "id": "4c4d87e7",
   "metadata": {},
   "source": [
    "#### Saving and loading the model using pickle"
   ]
  },
  {
   "cell_type": "code",
   "execution_count": 27,
   "id": "676cbc15",
   "metadata": {},
   "outputs": [],
   "source": [
    "import pickle\n",
    "with open('finalTrainedModelv2_pkl', 'wb') as files:\n",
    "    pickle.dump(model, files)"
   ]
  },
  {
   "cell_type": "code",
   "execution_count": 28,
   "id": "7ff84b68",
   "metadata": {},
   "outputs": [
    {
     "data": {
      "text/html": [
       "<style>#sk-container-id-4 {color: black;background-color: white;}#sk-container-id-4 pre{padding: 0;}#sk-container-id-4 div.sk-toggleable {background-color: white;}#sk-container-id-4 label.sk-toggleable__label {cursor: pointer;display: block;width: 100%;margin-bottom: 0;padding: 0.3em;box-sizing: border-box;text-align: center;}#sk-container-id-4 label.sk-toggleable__label-arrow:before {content: \"▸\";float: left;margin-right: 0.25em;color: #696969;}#sk-container-id-4 label.sk-toggleable__label-arrow:hover:before {color: black;}#sk-container-id-4 div.sk-estimator:hover label.sk-toggleable__label-arrow:before {color: black;}#sk-container-id-4 div.sk-toggleable__content {max-height: 0;max-width: 0;overflow: hidden;text-align: left;background-color: #f0f8ff;}#sk-container-id-4 div.sk-toggleable__content pre {margin: 0.2em;color: black;border-radius: 0.25em;background-color: #f0f8ff;}#sk-container-id-4 input.sk-toggleable__control:checked~div.sk-toggleable__content {max-height: 200px;max-width: 100%;overflow: auto;}#sk-container-id-4 input.sk-toggleable__control:checked~label.sk-toggleable__label-arrow:before {content: \"▾\";}#sk-container-id-4 div.sk-estimator input.sk-toggleable__control:checked~label.sk-toggleable__label {background-color: #d4ebff;}#sk-container-id-4 div.sk-label input.sk-toggleable__control:checked~label.sk-toggleable__label {background-color: #d4ebff;}#sk-container-id-4 input.sk-hidden--visually {border: 0;clip: rect(1px 1px 1px 1px);clip: rect(1px, 1px, 1px, 1px);height: 1px;margin: -1px;overflow: hidden;padding: 0;position: absolute;width: 1px;}#sk-container-id-4 div.sk-estimator {font-family: monospace;background-color: #f0f8ff;border: 1px dotted black;border-radius: 0.25em;box-sizing: border-box;margin-bottom: 0.5em;}#sk-container-id-4 div.sk-estimator:hover {background-color: #d4ebff;}#sk-container-id-4 div.sk-parallel-item::after {content: \"\";width: 100%;border-bottom: 1px solid gray;flex-grow: 1;}#sk-container-id-4 div.sk-label:hover label.sk-toggleable__label {background-color: #d4ebff;}#sk-container-id-4 div.sk-serial::before {content: \"\";position: absolute;border-left: 1px solid gray;box-sizing: border-box;top: 0;bottom: 0;left: 50%;z-index: 0;}#sk-container-id-4 div.sk-serial {display: flex;flex-direction: column;align-items: center;background-color: white;padding-right: 0.2em;padding-left: 0.2em;position: relative;}#sk-container-id-4 div.sk-item {position: relative;z-index: 1;}#sk-container-id-4 div.sk-parallel {display: flex;align-items: stretch;justify-content: center;background-color: white;position: relative;}#sk-container-id-4 div.sk-item::before, #sk-container-id-4 div.sk-parallel-item::before {content: \"\";position: absolute;border-left: 1px solid gray;box-sizing: border-box;top: 0;bottom: 0;left: 50%;z-index: -1;}#sk-container-id-4 div.sk-parallel-item {display: flex;flex-direction: column;z-index: 1;position: relative;background-color: white;}#sk-container-id-4 div.sk-parallel-item:first-child::after {align-self: flex-end;width: 50%;}#sk-container-id-4 div.sk-parallel-item:last-child::after {align-self: flex-start;width: 50%;}#sk-container-id-4 div.sk-parallel-item:only-child::after {width: 0;}#sk-container-id-4 div.sk-dashed-wrapped {border: 1px dashed gray;margin: 0 0.4em 0.5em 0.4em;box-sizing: border-box;padding-bottom: 0.4em;background-color: white;}#sk-container-id-4 div.sk-label label {font-family: monospace;font-weight: bold;display: inline-block;line-height: 1.2em;}#sk-container-id-4 div.sk-label-container {text-align: center;}#sk-container-id-4 div.sk-container {/* jupyter's `normalize.less` sets `[hidden] { display: none; }` but bootstrap.min.css set `[hidden] { display: none !important; }` so we also need the `!important` here to be able to override the default hidden behavior on the sphinx rendered scikit-learn.org. See: https://github.com/scikit-learn/scikit-learn/issues/21755 */display: inline-block !important;position: relative;}#sk-container-id-4 div.sk-text-repr-fallback {display: none;}</style><div id=\"sk-container-id-4\" class=\"sk-top-container\"><div class=\"sk-text-repr-fallback\"><pre>LinearSVC(random_state=42)</pre><b>In a Jupyter environment, please rerun this cell to show the HTML representation or trust the notebook. <br />On GitHub, the HTML representation is unable to render, please try loading this page with nbviewer.org.</b></div><div class=\"sk-container\" hidden><div class=\"sk-item\"><div class=\"sk-estimator sk-toggleable\"><input class=\"sk-toggleable__control sk-hidden--visually\" id=\"sk-estimator-id-4\" type=\"checkbox\" checked><label for=\"sk-estimator-id-4\" class=\"sk-toggleable__label sk-toggleable__label-arrow\">LinearSVC</label><div class=\"sk-toggleable__content\"><pre>LinearSVC(random_state=42)</pre></div></div></div></div></div>"
      ],
      "text/plain": [
       "LinearSVC(random_state=42)"
      ]
     },
     "metadata": {},
     "output_type": "display_data"
    }
   ],
   "source": [
    "with open('finalTrainedModelv2_pkl' , 'rb') as f:\n",
    "    lr = pickle.load(f)\n",
    "\n",
    "display(lr)"
   ]
  },
  {
   "cell_type": "markdown",
   "id": "01ea2fd2",
   "metadata": {},
   "source": [
    "#### Testing the model on 21-24 actors"
   ]
  },
  {
   "cell_type": "code",
   "execution_count": 29,
   "id": "5e590c3c",
   "metadata": {},
   "outputs": [
    {
     "name": "stdout",
     "output_type": "stream",
     "text": [
      "test\\Actor_21\\02-01-01-01-01-01-21.mp4\n",
      "test\\Actor_22\\02-01-01-01-01-01-22.mp4\n",
      "test\\Actor_23\\02-01-01-01-01-01-23.mp4\n",
      "test\\Actor_24\\02-01-01-01-01-01-24.mp4\n",
      "test\\Actor_21\\02-01-02-01-01-01-21.mp4\n",
      "test\\Actor_22\\02-01-02-01-01-01-22.mp4\n",
      "test\\Actor_23\\02-01-02-01-01-01-23.mp4\n",
      "test\\Actor_24\\02-01-02-01-01-01-24.mp4\n",
      "test\\Actor_21\\02-01-03-01-01-01-21.mp4\n",
      "test\\Actor_22\\02-01-03-01-01-01-22.mp4\n",
      "test\\Actor_23\\02-01-03-01-01-01-23.mp4\n",
      "test\\Actor_24\\02-01-03-01-01-01-24.mp4\n",
      "test\\Actor_21\\02-01-04-01-01-01-21.mp4\n",
      "test\\Actor_22\\02-01-04-01-01-01-22.mp4\n",
      "test\\Actor_23\\02-01-04-01-01-01-23.mp4\n",
      "test\\Actor_24\\02-01-04-01-01-01-24.mp4\n",
      "test\\Actor_21\\02-01-05-01-01-01-21.mp4\n",
      "test\\Actor_22\\02-01-05-01-01-01-22.mp4\n",
      "test\\Actor_23\\02-01-05-01-01-01-23.mp4\n",
      "test\\Actor_24\\02-01-05-01-01-01-24.mp4\n",
      "test\\Actor_21\\02-01-06-01-01-01-21.mp4\n",
      "test\\Actor_22\\02-01-06-01-01-01-22.mp4\n",
      "test\\Actor_23\\02-01-06-01-01-01-23.mp4\n",
      "test\\Actor_24\\02-01-06-01-01-01-24.mp4\n",
      "test\\Actor_21\\02-01-07-01-01-01-21.mp4\n",
      "test\\Actor_22\\02-01-07-01-01-01-22.mp4\n",
      "test\\Actor_23\\02-01-07-01-01-01-23.mp4\n",
      "test\\Actor_24\\02-01-07-01-01-01-24.mp4\n",
      "test\\Actor_21\\02-01-08-01-01-01-21.mp4\n",
      "test\\Actor_22\\02-01-08-01-01-01-22.mp4\n",
      "test\\Actor_23\\02-01-08-01-01-01-23.mp4\n",
      "test\\Actor_24\\02-01-08-01-01-01-24.mp4\n"
     ]
    }
   ],
   "source": [
    "test_data=[]\n",
    "test_true_label = []\n",
    "for i in range(1,9):\n",
    "    test_files = []\n",
    "    test_files = glob.glob('test\\\\**\\\\02-01-0{emotion}-01-01-01-*.mp4'.format(emotion = i))\n",
    "    for file in test_files:\n",
    "        print(file)\n",
    "        hist = findLBPFeatureVector(file)\n",
    "        test_data.append(hist)\n",
    "        test_true_label.append(i)"
   ]
  },
  {
   "cell_type": "code",
   "execution_count": 30,
   "id": "f33eac63",
   "metadata": {},
   "outputs": [
    {
     "data": {
      "text/plain": [
       "(32,)"
      ]
     },
     "metadata": {},
     "output_type": "display_data"
    }
   ],
   "source": [
    "test_true_label = np.array(test_true_label)\n",
    "test_predict_label = np.array(model.predict(test_data))\n",
    "display(test_predict_label.shape)"
   ]
  },
  {
   "cell_type": "markdown",
   "id": "0f3168c0",
   "metadata": {},
   "source": [
    "#### Printing the predicted and true labels  for emotions of video"
   ]
  },
  {
   "cell_type": "code",
   "execution_count": 31,
   "id": "95ee63b4",
   "metadata": {
    "scrolled": true
   },
   "outputs": [
    {
     "name": "stdout",
     "output_type": "stream",
     "text": [
      "[2 2 1 3 2 2 1 3 2 2 1 3 2 2 1 3 2 2 5 3 2 2 1 3 2 2 5 3 2 2 1 3]\n",
      "(32,)\n",
      "[1 1 1 1 2 2 2 2 3 3 3 3 4 4 4 4 5 5 5 5 6 6 6 6 7 7 7 7 8 8 8 8]\n"
     ]
    }
   ],
   "source": [
    "\n",
    "print(test_predict_label)\n",
    "print(test_true_label.shape)\n",
    "print(test_true_label)"
   ]
  },
  {
   "cell_type": "markdown",
   "id": "9898b873",
   "metadata": {},
   "source": [
    "#### Calculating the Classification Report having Precision,Recall,f1 score,accuracy "
   ]
  },
  {
   "cell_type": "code",
   "execution_count": 33,
   "id": "7c288d02",
   "metadata": {},
   "outputs": [
    {
     "name": "stdout",
     "output_type": "stream",
     "text": [
      "              precision    recall  f1-score   support\n",
      "\n",
      "           1       0.17      0.25      0.20         4\n",
      "           2       0.12      0.50      0.20         4\n",
      "           3       0.12      0.25      0.17         4\n",
      "           4       0.00      0.00      0.00         4\n",
      "           5       0.50      0.25      0.33         4\n",
      "           6       0.00      0.00      0.00         4\n",
      "           7       0.00      0.00      0.00         4\n",
      "           8       0.00      0.00      0.00         4\n",
      "\n",
      "    accuracy                           0.16        32\n",
      "   macro avg       0.11      0.16      0.11        32\n",
      "weighted avg       0.11      0.16      0.11        32\n",
      "\n",
      "[[1 2 1 0 0 0 0 0]\n",
      " [1 2 1 0 0 0 0 0]\n",
      " [1 2 1 0 0 0 0 0]\n",
      " [1 2 1 0 0 0 0 0]\n",
      " [0 2 1 0 1 0 0 0]\n",
      " [1 2 1 0 0 0 0 0]\n",
      " [0 2 1 0 1 0 0 0]\n",
      " [1 2 1 0 0 0 0 0]]\n"
     ]
    },
    {
     "name": "stderr",
     "output_type": "stream",
     "text": [
      "C:\\Users\\vishal bansal\\AppData\\Local\\Programs\\Python\\Python310\\lib\\site-packages\\sklearn\\metrics\\_classification.py:1327: UndefinedMetricWarning: Precision and F-score are ill-defined and being set to 0.0 in labels with no predicted samples. Use `zero_division` parameter to control this behavior.\n",
      "  _warn_prf(average, modifier, msg_start, len(result))\n",
      "C:\\Users\\vishal bansal\\AppData\\Local\\Programs\\Python\\Python310\\lib\\site-packages\\sklearn\\metrics\\_classification.py:1327: UndefinedMetricWarning: Precision and F-score are ill-defined and being set to 0.0 in labels with no predicted samples. Use `zero_division` parameter to control this behavior.\n",
      "  _warn_prf(average, modifier, msg_start, len(result))\n",
      "C:\\Users\\vishal bansal\\AppData\\Local\\Programs\\Python\\Python310\\lib\\site-packages\\sklearn\\metrics\\_classification.py:1327: UndefinedMetricWarning: Precision and F-score are ill-defined and being set to 0.0 in labels with no predicted samples. Use `zero_division` parameter to control this behavior.\n",
      "  _warn_prf(average, modifier, msg_start, len(result))\n"
     ]
    }
   ],
   "source": [
    "from sklearn.metrics import classification_report,confusion_matrix\n",
    "print(classification_report(test_true_label,test_predict_label))\n",
    "print(confusion_matrix(test_true_label,test_predict_label))"
   ]
  },
  {
   "cell_type": "markdown",
   "id": "d31fd7a1",
   "metadata": {},
   "source": [
    "### Analysis\n",
    "\n",
    "1) F1 score is very less and for classes 4,6,7,8 it is giving us incorrect results.\n",
    "2) The model is not trained Well due to which we are not getting more values on diagonals of confusion matrix.\n",
    "So all these suggest that model is not trained well and classes are not classified correctly.\n",
    "\n",
    "\n",
    "### Improvement\n",
    "1) We can use more parameters to extract more features like we can extract orientation etc using HOG Features.\n",
    "2) We can also use sound and use librosa library to analyse the frequency and pitch for different emotions and use them to extract more features.\n",
    "3) We can also move to non-linear classifier by fitting non-linear curve to classify the videos.\n",
    "4) To deal with multiple features we can reduce the dimension using chi square distance.\n"
   ]
  }
 ],
 "metadata": {
  "kernelspec": {
   "display_name": "Python 3 (ipykernel)",
   "language": "python",
   "name": "python3"
  },
  "language_info": {
   "codemirror_mode": {
    "name": "ipython",
    "version": 3
   },
   "file_extension": ".py",
   "mimetype": "text/x-python",
   "name": "python",
   "nbconvert_exporter": "python",
   "pygments_lexer": "ipython3",
   "version": "3.10.6"
  }
 },
 "nbformat": 4,
 "nbformat_minor": 5
}
